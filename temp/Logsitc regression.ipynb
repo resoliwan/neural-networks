{
 "cells": [
  {
   "cell_type": "markdown",
   "metadata": {},
   "source": [
    "# Want Y, Given X, Y\n",
    "$$\n",
    "X =\n",
    "\\begin{bmatrix}\n",
    "x^{1}_{1} & x^{2}_{1} \\\\\n",
    "x^{1}_{2} & x^{2}_{2}\n",
    "\\end{bmatrix}\n",
    ", W =\n",
    "\\begin{bmatrix}\n",
    "w_{1}\\\\\n",
    "w_{2}\n",
    "\\end{bmatrix}\n",
    "$$\n"
   ]
  },
  {
   "cell_type": "markdown",
   "metadata": {},
   "source": []
  },
  {
   "cell_type": "code",
   "execution_count": null,
   "metadata": {
    "collapsed": true
   },
   "outputs": [],
   "source": []
  }
 ],
 "metadata": {
  "kernelspec": {
   "display_name": "Python 3",
   "language": "python",
   "name": "python3"
  },
  "language_info": {
   "codemirror_mode": {
    "name": "ipython",
    "version": 3
   },
   "file_extension": ".py",
   "mimetype": "text/x-python",
   "name": "python",
   "nbconvert_exporter": "python",
   "pygments_lexer": "ipython3",
   "version": "3.6.1"
  }
 },
 "nbformat": 4,
 "nbformat_minor": 2
}
